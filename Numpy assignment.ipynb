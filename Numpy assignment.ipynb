{
 "cells": [
  {
   "cell_type": "markdown",
   "id": "de8d0403",
   "metadata": {},
   "source": [
    "Problem Statment:\n",
    "write a function so that the columns of the output matrix are power of the input vector\n",
    "the order of powers is determine by the increasing boolean argument. so ecifically when increasing is false,\n",
    "the i th output column is the input vector raised element wise to the power of N-i-1\n",
    "HINT- such a matrix with geomatric progression in each row is named for AL exandre-Theophile vandermonde."
   ]
  },
  {
   "cell_type": "code",
   "execution_count": 1,
   "id": "f308bc95",
   "metadata": {},
   "outputs": [],
   "source": [
    "import numpy as np"
   ]
  },
  {
   "cell_type": "code",
   "execution_count": 2,
   "id": "2aa83590",
   "metadata": {},
   "outputs": [
    {
     "name": "stdout",
     "output_type": "stream",
     "text": [
      "[[  1   1   1   1   1]\n",
      " [ 16   8   4   2   1]\n",
      " [ 81  27   9   3   1]\n",
      " [256  64  16   4   1]\n",
      " [625 125  25   5   1]]\n"
     ]
    }
   ],
   "source": [
    "x= np.array([1,2,3,4,5])\n",
    "N = 5\n",
    "matrix = np.vander(x,N,increasing=False)\n",
    "print(matrix)"
   ]
  },
  {
   "cell_type": "markdown",
   "id": "85503fec",
   "metadata": {},
   "source": [
    "OR"
   ]
  },
  {
   "cell_type": "code",
   "execution_count": 5,
   "id": "7f783bf8",
   "metadata": {},
   "outputs": [
    {
     "name": "stdout",
     "output_type": "stream",
     "text": [
      "[[  1   1   1   1   1]\n",
      " [ 16   8   4   2   1]\n",
      " [ 81  27   9   3   1]\n",
      " [256  64  16   4   1]\n",
      " [625 125  25   5   1]]\n"
     ]
    }
   ],
   "source": [
    "#creating matrix with output columns based on input vector\n",
    "import numpy as np\n",
    "x= np.array([1,2,3,4,5])\n",
    "N = 5\n",
    "matrix = np.column_stack([x**(N-i-1) for i in range(N)])\n",
    "print(matrix)"
   ]
  },
  {
   "cell_type": "code",
   "execution_count": null,
   "id": "5c56dfbd",
   "metadata": {},
   "outputs": [],
   "source": []
  }
 ],
 "metadata": {
  "kernelspec": {
   "display_name": "Python 3",
   "language": "python",
   "name": "python3"
  },
  "language_info": {
   "codemirror_mode": {
    "name": "ipython",
    "version": 3
   },
   "file_extension": ".py",
   "mimetype": "text/x-python",
   "name": "python",
   "nbconvert_exporter": "python",
   "pygments_lexer": "ipython3",
   "version": "3.8.8"
  }
 },
 "nbformat": 4,
 "nbformat_minor": 5
}
